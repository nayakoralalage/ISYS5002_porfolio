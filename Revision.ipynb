{
  "nbformat": 4,
  "nbformat_minor": 0,
  "metadata": {
    "colab": {
      "name": "Revision.ipynb",
      "provenance": [],
      "collapsed_sections": [],
      "authorship_tag": "ABX9TyNQB0WM+XftuQNf6ETQeD8P",
      "include_colab_link": true
    },
    "kernelspec": {
      "name": "python3",
      "display_name": "Python 3"
    },
    "language_info": {
      "name": "python"
    }
  },
  "cells": [
    {
      "cell_type": "markdown",
      "metadata": {
        "id": "view-in-github",
        "colab_type": "text"
      },
      "source": [
        "<a href=\"https://colab.research.google.com/github/nayakoralalage/ISYS5002_porfolio/blob/main/Revision.ipynb\" target=\"_parent\"><img src=\"https://colab.research.google.com/assets/colab-badge.svg\" alt=\"Open In Colab\"/></a>"
      ]
    },
    {
      "cell_type": "markdown",
      "metadata": {
        "id": "KA3R6etr8H1r"
      },
      "source": [
        "# Exception \n",
        "\n",
        "* try\n",
        "* except\n",
        "* finaly "
      ]
    },
    {
      "cell_type": "markdown",
      "metadata": {
        "id": "Z94sed1K8sAJ"
      },
      "source": [
        "# Usefull \n",
        "\n",
        "* file i/o\n",
        "* web scraping\n",
        "* databases \n"
      ]
    },
    {
      "cell_type": "code",
      "metadata": {
        "colab": {
          "base_uri": "https://localhost:8080/"
        },
        "id": "JE5GekhX_2Yc",
        "outputId": "c5384037-a329-4773-d7f8-585d06836fbd"
      },
      "source": [
        "try:\n",
        "  num1 = int(input(\"Please input a number \"))\n",
        "  num2 = int(input(\"Please input another number\"))\n",
        "  print(\"Numl divided by Num2 is \" + str(num1/num2))\n",
        "except TypeError as e:\n",
        "  print(e)\n",
        "except ValueError as e:\n",
        "  print(\"Please only type in digits, not letters\")\n",
        "  print(e)\n",
        "except ZeroDividionEror:\n",
        "  print(\"The second number cannot be zero \")\n"
      ],
      "execution_count": 1,
      "outputs": [
        {
          "output_type": "stream",
          "name": "stdout",
          "text": [
            "Please input a number 11\n",
            "Please input another number1\n",
            "Numl divided by Num2 is 11.0\n"
          ]
        }
      ]
    },
    {
      "cell_type": "code",
      "metadata": {
        "colab": {
          "base_uri": "https://localhost:8080/"
        },
        "id": "sROGlOjvBUsp",
        "outputId": "5ecc86ae-8965-4473-ca60-1b1d2c778c6b"
      },
      "source": [
        "try:\n",
        "  num1 = int(input(\"Please input a number \"))\n",
        "  num2 = int(input(\"Please input another number\"))\n",
        "  print(\"Numl divided by Num2 is \" + str(num1/num2))\n",
        "except Exception as e:\n",
        "  print(e)\n"
      ],
      "execution_count": 2,
      "outputs": [
        {
          "output_type": "stream",
          "name": "stdout",
          "text": [
            "Please input a number 11\n",
            "Please input another number0\n",
            "division by zero\n"
          ]
        }
      ]
    },
    {
      "cell_type": "code",
      "metadata": {
        "colab": {
          "base_uri": "https://localhost:8080/"
        },
        "id": "j6VrqVwHB-Vy",
        "outputId": "504c442a-170c-4c2c-a25b-6bbc0c093d28"
      },
      "source": [
        "# There is an error on the following line, need to do some research to work out how to fix\n",
        "# num1 = int(input(\"Please input a number \"))\n",
        "num1 = 10\n",
        "num2 = int(input(\"please input another number \"))\n",
        "print(\"Num1 divide by Num2 is \" + str(num1/num2))"
      ],
      "execution_count": 5,
      "outputs": [
        {
          "output_type": "stream",
          "name": "stdout",
          "text": [
            "please input another number 2\n",
            "Num1 divide by Num2 is 5.0\n"
          ]
        }
      ]
    }
  ]
}