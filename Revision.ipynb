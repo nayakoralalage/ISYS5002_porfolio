{
  "nbformat": 4,
  "nbformat_minor": 0,
  "metadata": {
    "colab": {
      "name": "Revision.ipynb",
      "provenance": [],
      "collapsed_sections": [],
      "authorship_tag": "ABX9TyM/SgCHmSGbJlrkGbtYlJY+",
      "include_colab_link": true
    },
    "kernelspec": {
      "name": "python3",
      "display_name": "Python 3"
    },
    "language_info": {
      "name": "python"
    }
  },
  "cells": [
    {
      "cell_type": "markdown",
      "metadata": {
        "id": "view-in-github",
        "colab_type": "text"
      },
      "source": [
        "<a href=\"https://colab.research.google.com/github/nayakoralalage/ISYS5002_porfolio/blob/main/Revision.ipynb\" target=\"_parent\"><img src=\"https://colab.research.google.com/assets/colab-badge.svg\" alt=\"Open In Colab\"/></a>"
      ]
    },
    {
      "cell_type": "markdown",
      "metadata": {
        "id": "KA3R6etr8H1r"
      },
      "source": [
        "# Exception \n",
        "\n",
        "* try\n",
        "* except\n",
        "* finaly "
      ]
    },
    {
      "cell_type": "markdown",
      "metadata": {
        "id": "Z94sed1K8sAJ"
      },
      "source": [
        "# Usefull \n",
        "\n",
        "* file i/o\n",
        "* web scraping\n",
        "* databases \n"
      ]
    },
    {
      "cell_type": "code",
      "metadata": {
        "colab": {
          "base_uri": "https://localhost:8080/"
        },
        "id": "JE5GekhX_2Yc",
        "outputId": "c5384037-a329-4773-d7f8-585d06836fbd"
      },
      "source": [
        "try:\n",
        "  num1 = int(input(\"Please input a number \"))\n",
        "  num2 = int(input(\"Please input another number\"))\n",
        "  print(\"Numl divided by Num2 is \" + str(num1/num2))\n",
        "except TypeError as e:\n",
        "  print(e)\n",
        "except ValueError as e:\n",
        "  print(\"Please only type in digits, not letters\")\n",
        "  print(e)\n",
        "except ZeroDividionEror:\n",
        "  print(\"The second number cannot be zero \")\n"
      ],
      "execution_count": 1,
      "outputs": [
        {
          "output_type": "stream",
          "name": "stdout",
          "text": [
            "Please input a number 11\n",
            "Please input another number1\n",
            "Numl divided by Num2 is 11.0\n"
          ]
        }
      ]
    },
    {
      "cell_type": "code",
      "metadata": {
        "colab": {
          "base_uri": "https://localhost:8080/"
        },
        "id": "sROGlOjvBUsp",
        "outputId": "5ecc86ae-8965-4473-ca60-1b1d2c778c6b"
      },
      "source": [
        "try:\n",
        "  num1 = int(input(\"Please input a number \"))\n",
        "  num2 = int(input(\"Please input another number\"))\n",
        "  print(\"Numl divided by Num2 is \" + str(num1/num2))\n",
        "except Exception as e:\n",
        "  print(e)\n"
      ],
      "execution_count": 2,
      "outputs": [
        {
          "output_type": "stream",
          "name": "stdout",
          "text": [
            "Please input a number 11\n",
            "Please input another number0\n",
            "division by zero\n"
          ]
        }
      ]
    },
    {
      "cell_type": "code",
      "metadata": {
        "colab": {
          "base_uri": "https://localhost:8080/"
        },
        "id": "j6VrqVwHB-Vy",
        "outputId": "504c442a-170c-4c2c-a25b-6bbc0c093d28"
      },
      "source": [
        "# There is an error on the following line, need to do some research to work out how to fix\n",
        "# num1 = int(input(\"Please input a number \"))\n",
        "num1 = 10\n",
        "num2 = int(input(\"please input another number \"))\n",
        "print(\"Num1 divide by Num2 is \" + str(num1/num2))"
      ],
      "execution_count": 5,
      "outputs": [
        {
          "output_type": "stream",
          "name": "stdout",
          "text": [
            "please input another number 2\n",
            "Num1 divide by Num2 is 5.0\n"
          ]
        }
      ]
    },
    {
      "cell_type": "markdown",
      "metadata": {
        "id": "knJ75I-zHE6Z"
      },
      "source": [
        "# Web Scraping Tables\n",
        "\n",
        "* 0. Install any packages need\n",
        "\n",
        "* 1. Import libraries\n",
        "\n",
        "* 2. Setup the URL\n",
        "\n",
        "* 3. Get the webpage\n",
        "\n",
        "* 4. Extract to HTML\n",
        "\n",
        "Important Libraries\n",
        "* urllib, urllib2, urllib3(powerful, complex)\n",
        "* request(easier and use urllib underneath\n",
        "* selenium(slow....)"
      ]
    },
    {
      "cell_type": "code",
      "metadata": {
        "id": "tPAEFO-AHhMW"
      },
      "source": [
        "# install requirements\n",
        "!pip install kora -q\n",
        "\n",
        "#load packages\n",
        "from bs4 import BeautifulSoup\n",
        "from kora.selenium import wd\n",
        "\n"
      ],
      "execution_count": 15,
      "outputs": []
    },
    {
      "cell_type": "code",
      "metadata": {
        "id": "bwgsYTTaJtaW"
      },
      "source": [
        "# setup the URL\n",
        "URL = \"https://www.abs.gov.au/statistics/economy/key-indicators\"\n",
        "\n",
        "# Get the page\n",
        "wd.get(URL)"
      ],
      "execution_count": 16,
      "outputs": []
    },
    {
      "cell_type": "markdown",
      "metadata": {
        "id": "AJ6xWlyCLZaM"
      },
      "source": [
        "# Basic HTML Structure \n",
        "\n",
        "    <!DOCTYPE html>\n",
        "    <html>\n",
        "    <body>\n",
        "\n",
        "    <h1>My First Heading</h1>\n",
        "    <p>My first paragraph.</p>\n",
        "\n",
        "    </body>\n",
        "    </html>\n",
        "\n",
        "## Basic Table Structure \n",
        "\n",
        "<table>\n",
        "  <tr>\n",
        "    <th>Company</th>\n",
        "    <th>Contact</th>\n",
        "    <th>Country</th>\n",
        "  </tr>\n",
        "  <tr>\n",
        "    <td>Alfreds Futterkiste</td>\n",
        "    <td>Maria Anders</td>\n",
        "    <td>Germany</td>\n",
        "  </tr>\n",
        "  <tr>\n",
        "    <td>Centro comercial Moctezuma</td>\n",
        "    <td>Francisco Chang</td>\n",
        "    <td>Mexico</td>\n",
        "  </tr>\n",
        "</table>\n",
        "\n",
        "\n"
      ]
    },
    {
      "cell_type": "code",
      "metadata": {
        "colab": {
          "base_uri": "https://localhost:8080/"
        },
        "id": "AE4PcQ0zMgPQ",
        "outputId": "27336a1c-af99-426a-91fd-ee108d06e91c"
      },
      "source": [
        "soup = BeautifulSoup(wd.page_source, \"html.parser\")\n",
        "\n",
        "tables = soup.find_all('table')\n",
        "len(tables)"
      ],
      "execution_count": 17,
      "outputs": [
        {
          "output_type": "execute_result",
          "data": {
            "text/plain": [
              "8"
            ]
          },
          "metadata": {},
          "execution_count": 17
        }
      ]
    },
    {
      "cell_type": "code",
      "metadata": {
        "colab": {
          "base_uri": "https://localhost:8080/"
        },
        "id": "NfO-5EFZN_mu",
        "outputId": "03df6a79-e520-4aaa-822b-d15e1be57ceb"
      },
      "source": [
        "tables[0]"
      ],
      "execution_count": 18,
      "outputs": [
        {
          "output_type": "execute_result",
          "data": {
            "text/plain": [
              "<table class=\"views-table views-view-table cols-6\"><caption><h2 id=\"national-accounts\">National Accounts<a aria-hidden=\"\" class=\"anchor-link\" href=\"#national-accounts\"></a></h2></caption><thead><tr><th class=\"views-field views-field-field-indicator\" id=\"view-field-indicator-table-column\" scope=\"col\">Indicator</th><th class=\"views-field views-field-field-kei-period\" id=\"view-field-kei-period-table-column\" scope=\"col\">Period</th><th class=\"views-field views-field-field-kei-unit\" id=\"view-field-kei-unit-table-column\" scope=\"col\">Unit</th><th class=\"views-align-right views-field views-field-field-kei-value views-align-right\" id=\"view-field-kei-value-table-column\" scope=\"col\">Value</th><th class=\"views-align-right views-field views-field-field-kei-change-previous-period views-align-right\" id=\"view-field-kei-change-previous-period-table-column\" scope=\"col\">Change previous period</th><th class=\"views-align-right views-field views-field-field-kei-change-period-last-ye views-align-right\" id=\"view-field-kei-change-period-last-ye-table-column\" scope=\"col\">Change same period last year</th></tr></thead><tbody><tr><td class=\"views-field views-field-field-indicator\" headers=\"view-field-indicator-table-column\"><a href=\"/statistics/economy/national-accounts/australian-national-accounts-national-income-expenditure-and-product/jun-2021\">Gross domestic product GDP, Chain volume measures - seasonally adjusted</a></td><td class=\"views-field views-field-field-kei-period\" headers=\"view-field-kei-period-table-column\">Jun Qtr 2021</td><td class=\"views-field views-field-field-kei-unit\" headers=\"view-field-kei-unit-table-column\">$m</td><td class=\"views-field views-field-field-kei-value views-align-right\" headers=\"view-field-kei-value-table-column\">505,134</td><td class=\"views-field views-field-field-kei-change-previous-period views-align-right\" headers=\"view-field-kei-change-previous-period-table-column\">0.7%</td><td class=\"views-field views-field-field-kei-change-period-last-ye views-align-right\" headers=\"view-field-kei-change-period-last-ye-table-column\">9.6%</td></tr><tr><td class=\"views-field views-field-field-indicator\" headers=\"view-field-indicator-table-column\"><a href=\"/statistics/economy/national-accounts/australian-national-accounts-national-income-expenditure-and-product/jun-2021\">Gross domestic product GDP, Chain volume measures - annual (a)</a></td><td class=\"views-field views-field-field-kei-period\" headers=\"view-field-kei-period-table-column\">2020-21</td><td class=\"views-field views-field-field-kei-unit\" headers=\"view-field-kei-unit-table-column\">$m</td><td class=\"views-field views-field-field-kei-value views-align-right\" headers=\"view-field-kei-value-table-column\">1,975,866</td><td class=\"views-field views-field-field-kei-change-previous-period views-align-right\" headers=\"view-field-kei-change-previous-period-table-column\">1.4%</td><td class=\"views-field views-field-field-kei-change-period-last-ye views-align-right\" headers=\"view-field-kei-change-period-last-ye-table-column\">na</td></tr></tbody></table>"
            ]
          },
          "metadata": {},
          "execution_count": 18
        }
      ]
    },
    {
      "cell_type": "code",
      "metadata": {
        "id": "WLxPCzGjOk4U"
      },
      "source": [
        "tbody = tables[0].find('tbody')"
      ],
      "execution_count": 19,
      "outputs": []
    },
    {
      "cell_type": "code",
      "metadata": {
        "id": "IT5S1svnOwha"
      },
      "source": [
        "rows = tbody.find_all('tr')"
      ],
      "execution_count": 20,
      "outputs": []
    },
    {
      "cell_type": "code",
      "metadata": {
        "id": "TUO9NZC9PLpv"
      },
      "source": [
        "columns = rows[0].find_all('td')"
      ],
      "execution_count": 21,
      "outputs": []
    },
    {
      "cell_type": "code",
      "metadata": {
        "colab": {
          "base_uri": "https://localhost:8080/",
          "height": 35
        },
        "id": "0eeG0Ym8PiW9",
        "outputId": "f1d82fa1-d6cc-4756-8c57-9ac8fb32ef37"
      },
      "source": [
        "columns[0].text"
      ],
      "execution_count": 28,
      "outputs": [
        {
          "output_type": "execute_result",
          "data": {
            "application/vnd.google.colaboratory.intrinsic+json": {
              "type": "string"
            },
            "text/plain": [
              "'Gross domestic product GDP, Chain volume measures - seasonally adjusted'"
            ]
          },
          "metadata": {},
          "execution_count": 28
        }
      ]
    },
    {
      "cell_type": "code",
      "metadata": {
        "colab": {
          "base_uri": "https://localhost:8080/"
        },
        "id": "RUcwG64WQa0J",
        "outputId": "63769391-1ca0-4a60-d5ce-f92ea0b51e83"
      },
      "source": [
        "tables = soup.find_all('table')\n",
        "for table in tables:\n",
        "  body = table.find('tbody')\n",
        "  rows = body.find_all('tr')\n",
        "  for row in rows:\n",
        "    data = row.find_all('td')\n",
        "    for text in data:\n",
        "      print(text.text)\n",
        "    print()"
      ],
      "execution_count": 26,
      "outputs": [
        {
          "output_type": "stream",
          "name": "stdout",
          "text": [
            "Gross domestic product GDP, Chain volume measures - seasonally adjusted\n",
            "Jun Qtr 2021\n",
            "$m\n",
            "505,134\n",
            "0.7%\n",
            "9.6%\n",
            "\n",
            "Gross domestic product GDP, Chain volume measures - annual (a)\n",
            "2020-21\n",
            "$m\n",
            "1,975,866\n",
            "1.4%\n",
            "na\n",
            "\n",
            "Balance on Goods and Services - seasonally adjusted\n",
            "August 20121\n",
            "$m\n",
            "15,077\n",
            "-\n",
            "-\n",
            "\n",
            "Total Goods and Services Credits - seasonally adjusted\n",
            "August 2021\n",
            "$m\n",
            "48,524\n",
            "4.1%\n",
            "-3.7%\n",
            "\n",
            "Total Goods and Services Debits - seasonally adjusted\n",
            "August 2021\n",
            "$m\n",
            "33,466\n",
            "-1.5%\n",
            "1.5%\n",
            "\n",
            "Balance on Current Account - seasonally adjusted\n",
            "June 2021\n",
            "$m\n",
            "20,461\n",
            "na\n",
            "na\n",
            "\n",
            "Net International Investment Position (IIP) - original\n",
            "June 2021\n",
            "$m\n",
            "885,123\n",
            "-3.26%\n",
            "na\n",
            "\n",
            "Net Foreign Debt - original\n",
            "June 2021\n",
            "$m\n",
            "1,186,356\n",
            "1.94%\n",
            "na\n",
            "\n",
            "Retail turnover at current prices - seasonally adjusted\n",
            "August 2021\n",
            "$m\n",
            "29275.5\n",
            "-1.7\n",
            "-0.7\n",
            "\n",
            "Actual New Capital Expenditure in volume terms - seasonally adjusted\n",
            "Jun Qtr 2021\n",
            "$m\n",
            "32,675 million\n",
            "4.4%\n",
            "11.5%\n",
            "\n",
            "Inventories held by Private Businesses, in volume terms - seasonally adjusted\n",
            "Jun qtr 2021\n",
            "$m\n",
            "168,529\n",
            "0.2%\n",
            "2.4%\n",
            "\n",
            "Total new motor vehicle sales\n",
            "Dec 2017\n",
            "no.\n",
            "99,756\n",
            "0.2%\n",
            "2.8%\n",
            "\n",
            "Income from sales of goods and services by Manufacturers in volume terms - seasonally adjusted\n",
            "Jun qtr 2021\n",
            "$m\n",
            "89,266\n",
            "-0.2%\n",
            "8.1%\n",
            "\n",
            "Dwelling unit approvals - seasonally adjusted\n",
            "August 2021\n",
            "no.\n",
            "18,716\n",
            "6.8%\n",
            "31.2%\n",
            "\n",
            "Building approvals - seasonally adjusted\n",
            "August 2021\n",
            "$m\n",
            "13,025.2\n",
            "20.3%\n",
            "29.3%\n",
            "\n",
            "Total dwelling units commenced - seasonally adjusted\n",
            "Mar 2021\n",
            "no.\n",
            "51,662\n",
            "0.2\n",
            "13.1\n",
            "\n",
            "Building work done - chain volume measures - seasonally adjusted\n",
            "Jun 2021\n",
            "$m\n",
            "30,563.5\n",
            "0.1%\n",
            "2.8%\n",
            "\n",
            "Engineering construction work done - chain volume measures - seasonally adjusted\n",
            "Jun 2021\n",
            "$m\n",
            "22,312\n",
            "1.8%\n",
            "-2.7%\n",
            "\n",
            "Consumer price index (2011-12 = 100.0) - original\n",
            "Jun 2021 Qtr\n",
            "Index no.\n",
            "118.8\n",
            "0.8%\n",
            "3.8%\n",
            "\n",
            "Producer Price Indexes, Final Demand (2011-12 = 100.0) - original\n",
            "June 2021 Qtr\n",
            "Index no.\n",
            "113.6\n",
            "0.7\n",
            "2.2\n",
            "\n",
            "Import price index (2011-12 = 100.0) - original\n",
            "Jun Qtr 2021\n",
            "Index no.\n",
            "108.1\n",
            "1.9%\n",
            "-2.5%\n",
            "\n",
            "Export price index (2011-12 = 100.0) - original\n",
            "Jun Qtr 2021\n",
            "Index no.\n",
            "137.3\n",
            "13.2%\n",
            "26.0%\n",
            "\n",
            "Wage Price Index (2008-2009 = 100.0) - original\n",
            "Jun Qtr 2021\n",
            "Index no.\n",
            "136.5\n",
            "0.3%\n",
            "1.8%\n",
            "\n",
            "Employed persons - seasonally adjusted\n",
            "August 2021\n",
            "'000\n",
            "13,022.6\n",
            "-146.3\n",
            "396.1\n",
            "\n",
            "Participation rate - seasonally adjusted\n",
            "August 2021\n",
            "%\n",
            "65.2\n",
            "-0.8 pts\n",
            "0.2 pts\n",
            "\n",
            "Unemployment rate - seasonally adjusted\n",
            "August 2021\n",
            "%\n",
            "4.5\n",
            "-0.1 pts\n",
            "-2.2 pts\n",
            "\n",
            "Employment to Population ratio - seasonally adjusted\n",
            "August 2021\n",
            "%\n",
            "62.2\n",
            "-0.7 pts\n",
            "1.7 pts\n",
            "\n",
            "Job Vacancies - seasonally adjusted\n",
            "Aug 2021\n",
            "'000\n",
            "333.7\n",
            "-9.8%\n",
            "61.8%\n",
            "\n",
            "Estimated resident population - (preliminary)\n",
            "Mar qtr 2021\n",
            "'000\n",
            "25,704.3\n",
            "0.1\n",
            "0.1\n",
            "\n",
            "Short-term overseas visitor arrivals (b)\n",
            "July 2021\n",
            "'000\n",
            "na\n",
            "na\n",
            "na\n",
            "\n",
            "Company gross operating profits (in current price terms) - seasonally adjusted\n",
            "Jun qtr 2021\n",
            "$m\n",
            "118,299\n",
            "7.1%\n",
            "5.5%\n",
            "\n",
            "Average weekly ordinary time earnings, full-time adults\n",
            "May 2021\n",
            "$\n",
            "1737.10\n",
            "np\n",
            "1.4%\n",
            "\n",
            "New housing loan commitments - seasonally adjusted\n",
            "August 2021\n",
            "$b\n",
            "30.76\n",
            "-4.3%\n",
            "47.4%\n",
            "\n",
            "New housing loan commitments to Owner Occupiers - seasonally adjusted\n",
            "August 2021\n",
            "$b\n",
            "21.26\n",
            "-6.6%\n",
            "33.5%\n",
            "\n",
            "New housing loan commitments to Investors - seasonally adjusted\n",
            "August 2021\n",
            "$b\n",
            "9.49\n",
            "1.5%\n",
            "92.2%\n",
            "\n",
            "New personal loan commitments for fixed term loans - seasonally adjusted\n",
            "August 2021\n",
            "$b\n",
            "1.93\n",
            "-2.5%\n",
            "38.9%\n",
            "\n",
            "New business loan commitments for construction - seasonally adjusted\n",
            "August 2021\n",
            "$b\n",
            "2.18\n",
            "-26.4%\n",
            "77.3%\n",
            "\n",
            "New business loan commitments for the purchase of property - seasonally adjusted\n",
            "August 2021\n",
            "$b\n",
            "6.79\n",
            "-10.0%\n",
            "97.7%\n",
            "\n"
          ]
        }
      ]
    },
    {
      "cell_type": "code",
      "metadata": {
        "colab": {
          "base_uri": "https://localhost:8080/"
        },
        "id": "Cn268IeP4Oew",
        "outputId": "d0a6ce0a-23b6-4993-9728-31eea839f310"
      },
      "source": [
        "tables = soup.find_all('table')\n",
        "#for table in tables:\n",
        "body = tables[0].find('tbody')\n",
        "rows = body.find_all('tr')\n",
        "for row in rows:\n",
        "    data = row.find_all('td')\n",
        "    for text in data:\n",
        "      print(text.text)\n",
        "    print()"
      ],
      "execution_count": 31,
      "outputs": [
        {
          "output_type": "stream",
          "name": "stdout",
          "text": [
            "Gross domestic product GDP, Chain volume measures - seasonally adjusted\n",
            "Jun Qtr 2021\n",
            "$m\n",
            "505,134\n",
            "0.7%\n",
            "9.6%\n",
            "\n",
            "Gross domestic product GDP, Chain volume measures - annual (a)\n",
            "2020-21\n",
            "$m\n",
            "1,975,866\n",
            "1.4%\n",
            "na\n",
            "\n"
          ]
        }
      ]
    },
    {
      "cell_type": "code",
      "metadata": {
        "colab": {
          "base_uri": "https://localhost:8080/"
        },
        "id": "mpF2lsJSveXJ",
        "outputId": "33b59857-decf-49ad-c66b-4eb78df52900"
      },
      "source": [
        "# install requirements\n",
        "!pip install kora -q\n",
        "\n",
        "# load packages \n",
        "from kora.selenium import wd\n",
        "import pandas as pd\n",
        "\n",
        "# setup the URL\n",
        "URL = 'https://www.abs.gov.au/statistics/economy/key-indicators'\n",
        "\n",
        "# Get the page\n",
        "wd.get(URL)\n",
        "\n",
        "tables_as_df = pd.read_html(wd.page_source)\n",
        "len(tables_as_df)\n",
        "\n"
      ],
      "execution_count": 32,
      "outputs": [
        {
          "output_type": "execute_result",
          "data": {
            "text/plain": [
              "8"
            ]
          },
          "metadata": {},
          "execution_count": 32
        }
      ]
    },
    {
      "cell_type": "code",
      "metadata": {
        "colab": {
          "base_uri": "https://localhost:8080/",
          "height": 112
        },
        "id": "BfU1qDjPxCPr",
        "outputId": "1f6fe5bc-4905-4c4b-e298-85f97be7cdf9"
      },
      "source": [
        "tables_as_df[0]"
      ],
      "execution_count": 7,
      "outputs": [
        {
          "output_type": "execute_result",
          "data": {
            "text/html": [
              "<div>\n",
              "<style scoped>\n",
              "    .dataframe tbody tr th:only-of-type {\n",
              "        vertical-align: middle;\n",
              "    }\n",
              "\n",
              "    .dataframe tbody tr th {\n",
              "        vertical-align: top;\n",
              "    }\n",
              "\n",
              "    .dataframe thead th {\n",
              "        text-align: right;\n",
              "    }\n",
              "</style>\n",
              "<table border=\"1\" class=\"dataframe\">\n",
              "  <thead>\n",
              "    <tr style=\"text-align: right;\">\n",
              "      <th></th>\n",
              "      <th>Indicator</th>\n",
              "      <th>Period</th>\n",
              "      <th>Unit</th>\n",
              "      <th>Value</th>\n",
              "      <th>Change previous period</th>\n",
              "      <th>Change same period last year</th>\n",
              "    </tr>\n",
              "  </thead>\n",
              "  <tbody>\n",
              "    <tr>\n",
              "      <th>0</th>\n",
              "      <td>Gross domestic product GDP, Chain volume measu...</td>\n",
              "      <td>Jun Qtr 2021</td>\n",
              "      <td>$m</td>\n",
              "      <td>505134</td>\n",
              "      <td>0.7%</td>\n",
              "      <td>9.6%</td>\n",
              "    </tr>\n",
              "    <tr>\n",
              "      <th>1</th>\n",
              "      <td>Gross domestic product GDP, Chain volume measu...</td>\n",
              "      <td>2020-21</td>\n",
              "      <td>$m</td>\n",
              "      <td>1975866</td>\n",
              "      <td>1.4%</td>\n",
              "      <td>na</td>\n",
              "    </tr>\n",
              "  </tbody>\n",
              "</table>\n",
              "</div>"
            ],
            "text/plain": [
              "                                           Indicator  ... Change same period last year\n",
              "0  Gross domestic product GDP, Chain volume measu...  ...                         9.6%\n",
              "1  Gross domestic product GDP, Chain volume measu...  ...                           na\n",
              "\n",
              "[2 rows x 6 columns]"
            ]
          },
          "metadata": {},
          "execution_count": 7
        }
      ]
    },
    {
      "cell_type": "code",
      "metadata": {
        "colab": {
          "base_uri": "https://localhost:8080/",
          "height": 238
        },
        "id": "HtPe6oaUxIhb",
        "outputId": "8f65be7b-652b-4f06-9dc6-fa39b4ede6d5"
      },
      "source": [
        "tables_as_df[1]"
      ],
      "execution_count": 33,
      "outputs": [
        {
          "output_type": "execute_result",
          "data": {
            "text/html": [
              "<div>\n",
              "<style scoped>\n",
              "    .dataframe tbody tr th:only-of-type {\n",
              "        vertical-align: middle;\n",
              "    }\n",
              "\n",
              "    .dataframe tbody tr th {\n",
              "        vertical-align: top;\n",
              "    }\n",
              "\n",
              "    .dataframe thead th {\n",
              "        text-align: right;\n",
              "    }\n",
              "</style>\n",
              "<table border=\"1\" class=\"dataframe\">\n",
              "  <thead>\n",
              "    <tr style=\"text-align: right;\">\n",
              "      <th></th>\n",
              "      <th>Indicator</th>\n",
              "      <th>Period</th>\n",
              "      <th>Unit</th>\n",
              "      <th>Value</th>\n",
              "      <th>Change previous period</th>\n",
              "      <th>Change same period last year</th>\n",
              "    </tr>\n",
              "  </thead>\n",
              "  <tbody>\n",
              "    <tr>\n",
              "      <th>0</th>\n",
              "      <td>Balance on Goods and Services - seasonally adj...</td>\n",
              "      <td>August 20121</td>\n",
              "      <td>$m</td>\n",
              "      <td>15077</td>\n",
              "      <td>-</td>\n",
              "      <td>-</td>\n",
              "    </tr>\n",
              "    <tr>\n",
              "      <th>1</th>\n",
              "      <td>Total Goods and Services Credits - seasonally ...</td>\n",
              "      <td>August 2021</td>\n",
              "      <td>$m</td>\n",
              "      <td>48524</td>\n",
              "      <td>4.1%</td>\n",
              "      <td>-3.7%</td>\n",
              "    </tr>\n",
              "    <tr>\n",
              "      <th>2</th>\n",
              "      <td>Total Goods and Services Debits - seasonally a...</td>\n",
              "      <td>August 2021</td>\n",
              "      <td>$m</td>\n",
              "      <td>33466</td>\n",
              "      <td>-1.5%</td>\n",
              "      <td>1.5%</td>\n",
              "    </tr>\n",
              "    <tr>\n",
              "      <th>3</th>\n",
              "      <td>Balance on Current Account - seasonally adjusted</td>\n",
              "      <td>June 2021</td>\n",
              "      <td>$m</td>\n",
              "      <td>20461</td>\n",
              "      <td>na</td>\n",
              "      <td>na</td>\n",
              "    </tr>\n",
              "    <tr>\n",
              "      <th>4</th>\n",
              "      <td>Net International Investment Position (IIP) - ...</td>\n",
              "      <td>June 2021</td>\n",
              "      <td>$m</td>\n",
              "      <td>885123</td>\n",
              "      <td>-3.26%</td>\n",
              "      <td>na</td>\n",
              "    </tr>\n",
              "    <tr>\n",
              "      <th>5</th>\n",
              "      <td>Net Foreign Debt - original</td>\n",
              "      <td>June 2021</td>\n",
              "      <td>$m</td>\n",
              "      <td>1186356</td>\n",
              "      <td>1.94%</td>\n",
              "      <td>na</td>\n",
              "    </tr>\n",
              "  </tbody>\n",
              "</table>\n",
              "</div>"
            ],
            "text/plain": [
              "                                           Indicator  ... Change same period last year\n",
              "0  Balance on Goods and Services - seasonally adj...  ...                            -\n",
              "1  Total Goods and Services Credits - seasonally ...  ...                        -3.7%\n",
              "2  Total Goods and Services Debits - seasonally a...  ...                         1.5%\n",
              "3   Balance on Current Account - seasonally adjusted  ...                           na\n",
              "4  Net International Investment Position (IIP) - ...  ...                           na\n",
              "5                        Net Foreign Debt - original  ...                           na\n",
              "\n",
              "[6 rows x 6 columns]"
            ]
          },
          "metadata": {},
          "execution_count": 33
        }
      ]
    },
    {
      "cell_type": "code",
      "metadata": {
        "colab": {
          "base_uri": "https://localhost:8080/"
        },
        "id": "kAK4rAkhxSaE",
        "outputId": "57c95c06-aaaa-4660-b0fb-40f0b65263f6"
      },
      "source": [
        "dir(pd)"
      ],
      "execution_count": 9,
      "outputs": [
        {
          "output_type": "execute_result",
          "data": {
            "text/plain": [
              "['BooleanDtype',\n",
              " 'Categorical',\n",
              " 'CategoricalDtype',\n",
              " 'CategoricalIndex',\n",
              " 'DataFrame',\n",
              " 'DateOffset',\n",
              " 'DatetimeIndex',\n",
              " 'DatetimeTZDtype',\n",
              " 'ExcelFile',\n",
              " 'ExcelWriter',\n",
              " 'Float64Index',\n",
              " 'Grouper',\n",
              " 'HDFStore',\n",
              " 'Index',\n",
              " 'IndexSlice',\n",
              " 'Int16Dtype',\n",
              " 'Int32Dtype',\n",
              " 'Int64Dtype',\n",
              " 'Int64Index',\n",
              " 'Int8Dtype',\n",
              " 'Interval',\n",
              " 'IntervalDtype',\n",
              " 'IntervalIndex',\n",
              " 'MultiIndex',\n",
              " 'NA',\n",
              " 'NaT',\n",
              " 'NamedAgg',\n",
              " 'Period',\n",
              " 'PeriodDtype',\n",
              " 'PeriodIndex',\n",
              " 'RangeIndex',\n",
              " 'Series',\n",
              " 'SparseDtype',\n",
              " 'StringDtype',\n",
              " 'Timedelta',\n",
              " 'TimedeltaIndex',\n",
              " 'Timestamp',\n",
              " 'UInt16Dtype',\n",
              " 'UInt32Dtype',\n",
              " 'UInt64Dtype',\n",
              " 'UInt64Index',\n",
              " 'UInt8Dtype',\n",
              " '__builtins__',\n",
              " '__cached__',\n",
              " '__doc__',\n",
              " '__docformat__',\n",
              " '__file__',\n",
              " '__getattr__',\n",
              " '__git_version__',\n",
              " '__loader__',\n",
              " '__name__',\n",
              " '__package__',\n",
              " '__path__',\n",
              " '__spec__',\n",
              " '__version__',\n",
              " '_config',\n",
              " '_hashtable',\n",
              " '_is_numpy_dev',\n",
              " '_lib',\n",
              " '_libs',\n",
              " '_np_version_under1p16',\n",
              " '_np_version_under1p17',\n",
              " '_np_version_under1p18',\n",
              " '_testing',\n",
              " '_tslib',\n",
              " '_typing',\n",
              " '_version',\n",
              " 'api',\n",
              " 'array',\n",
              " 'arrays',\n",
              " 'bdate_range',\n",
              " 'compat',\n",
              " 'concat',\n",
              " 'core',\n",
              " 'crosstab',\n",
              " 'cut',\n",
              " 'date_range',\n",
              " 'describe_option',\n",
              " 'errors',\n",
              " 'eval',\n",
              " 'factorize',\n",
              " 'get_dummies',\n",
              " 'get_option',\n",
              " 'infer_freq',\n",
              " 'interval_range',\n",
              " 'io',\n",
              " 'isna',\n",
              " 'isnull',\n",
              " 'json_normalize',\n",
              " 'lreshape',\n",
              " 'melt',\n",
              " 'merge',\n",
              " 'merge_asof',\n",
              " 'merge_ordered',\n",
              " 'notna',\n",
              " 'notnull',\n",
              " 'offsets',\n",
              " 'option_context',\n",
              " 'options',\n",
              " 'pandas',\n",
              " 'period_range',\n",
              " 'pivot',\n",
              " 'pivot_table',\n",
              " 'plotting',\n",
              " 'qcut',\n",
              " 'read_clipboard',\n",
              " 'read_csv',\n",
              " 'read_excel',\n",
              " 'read_feather',\n",
              " 'read_fwf',\n",
              " 'read_gbq',\n",
              " 'read_hdf',\n",
              " 'read_html',\n",
              " 'read_json',\n",
              " 'read_orc',\n",
              " 'read_parquet',\n",
              " 'read_pickle',\n",
              " 'read_sas',\n",
              " 'read_spss',\n",
              " 'read_sql',\n",
              " 'read_sql_query',\n",
              " 'read_sql_table',\n",
              " 'read_stata',\n",
              " 'read_table',\n",
              " 'reset_option',\n",
              " 'set_eng_float_format',\n",
              " 'set_option',\n",
              " 'show_versions',\n",
              " 'test',\n",
              " 'testing',\n",
              " 'timedelta_range',\n",
              " 'to_datetime',\n",
              " 'to_numeric',\n",
              " 'to_pickle',\n",
              " 'to_timedelta',\n",
              " 'tseries',\n",
              " 'unique',\n",
              " 'util',\n",
              " 'value_counts',\n",
              " 'wide_to_long']"
            ]
          },
          "metadata": {},
          "execution_count": 9
        }
      ]
    }
  ]
}