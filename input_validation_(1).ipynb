{
  "nbformat": 4,
  "nbformat_minor": 5,
  "metadata": {
    "kernelspec": {
      "display_name": "Python 3 (ipykernel)",
      "language": "python",
      "name": "python3"
    },
    "language_info": {
      "codemirror_mode": {
        "name": "ipython",
        "version": 3
      },
      "file_extension": ".py",
      "mimetype": "text/x-python",
      "name": "python",
      "nbconvert_exporter": "python",
      "pygments_lexer": "ipython3",
      "version": "3.9.6"
    },
    "colab": {
      "name": "input_validation_(1).ipynb",
      "provenance": [],
      "collapsed_sections": [],
      "include_colab_link": true
    }
  },
  "cells": [
    {
      "cell_type": "markdown",
      "metadata": {
        "id": "view-in-github",
        "colab_type": "text"
      },
      "source": [
        "<a href=\"https://colab.research.google.com/github/nayakoralalage/ISYS5002_porfolio/blob/main/input_validation_(1).ipynb\" target=\"_parent\"><img src=\"https://colab.research.google.com/assets/colab-badge.svg\" alt=\"Open In Colab\"/></a>"
      ]
    },
    {
      "cell_type": "markdown",
      "metadata": {
        "id": "b5835b0c"
      },
      "source": [
        "# Input Validation\n",
        "\n",
        "Input validation code verifies that user supplied data, such as text from the input() function, is formatted appropriately.\n",
        "\n",
        "* try/except\n",
        "* isdigit()\n",
        "* pyinputplus\n",
        "\n",
        "## try/except"
      ],
      "id": "b5835b0c"
    },
    {
      "cell_type": "code",
      "metadata": {
        "colab": {
          "base_uri": "https://localhost:8080/"
        },
        "id": "7Da0MtZTeoRY",
        "outputId": "9b35d4b9-56dc-4e9c-aee7-31926202efa6"
      },
      "source": [
        "  #Reference: http://www.easypythondocs.com/validation.html \n",
        "\n",
        "  while True:\n",
        "      try:\n",
        "        age = int(input('How old are you? '))\n",
        "        break\n",
        "      except ValueError:\n",
        "        print('Please enter a whole number')\n",
        "\n",
        "  print('Your age is: ' + str(age))\n"
      ],
      "id": "7Da0MtZTeoRY",
      "execution_count": null,
      "outputs": [
        {
          "output_type": "stream",
          "text": [
            "How old are you? twenty one\n",
            "Please enter a whole number\n",
            "How old are you? 21\n",
            "Your age is: 21\n"
          ],
          "name": "stdout"
        }
      ]
    },
    {
      "cell_type": "code",
      "metadata": {
        "id": "cdI8mduMepr8"
      },
      "source": [
        "def  get_integer(prompt):\n",
        "  '''This function will prompt the user for a number and then convert that string \n",
        "  to a integer and return value'''\n",
        "\n",
        "  #Reference: http://www.easypythondocs.com/validation.html\n",
        "\n",
        "  valid_input = False;\n",
        "  while not valid_input:\n",
        "      try:\n",
        "        number = int(input(prompt))\n",
        "        #break\n",
        "        valid_input = True\n",
        "      except ValueError:\n",
        "        print('Please enter a whole number')\n",
        "\n",
        "  return number"
      ],
      "id": "cdI8mduMepr8",
      "execution_count": null,
      "outputs": []
    },
    {
      "cell_type": "code",
      "metadata": {
        "colab": {
          "base_uri": "https://localhost:8080/"
        },
        "id": "6y9ywX9MnNIv",
        "outputId": "819c1d6c-d7ea-416e-dd5d-9eae06248747"
      },
      "source": [
        "age = get_integer(\"How old are you? \")\n",
        "print('Your age is: ' + str(age))"
      ],
      "id": "6y9ywX9MnNIv",
      "execution_count": null,
      "outputs": [
        {
          "output_type": "stream",
          "text": [
            "How old are you? twenty one\n",
            "Please enter a whole number\n",
            "How old are you? 21\n",
            "Your age is: 21\n"
          ],
          "name": "stdout"
        }
      ]
    },
    {
      "cell_type": "markdown",
      "metadata": {
        "id": "acc7252b"
      },
      "source": [
        "## isdigit()"
      ],
      "id": "acc7252b"
    },
    {
      "cell_type": "code",
      "metadata": {
        "id": "5f98c241",
        "colab": {
          "base_uri": "https://localhost:8080/"
        },
        "outputId": "5ba464bd-1de1-49f7-c0a8-337c4e1e04c8"
      },
      "source": [
        "  #Reference: http://www.easypythondocs.com/validation.html\n",
        "\n",
        "  while True:\n",
        "    age = input('How old are you? ')\n",
        "    if age.isdigit():\n",
        "      age = int(age)\n",
        "      break\n",
        "    else:\n",
        "       print('You must enter a valid number')\n",
        "\n",
        "  print('You are ' + str(age))"
      ],
      "id": "5f98c241",
      "execution_count": null,
      "outputs": [
        {
          "output_type": "stream",
          "text": [
            "How old are you? 2one\n",
            "You must enter a valid number\n",
            "How old are you? 21\n",
            "You are 21\n"
          ],
          "name": "stdout"
        }
      ]
    },
    {
      "cell_type": "code",
      "metadata": {
        "id": "vW92SmIb4EkO"
      },
      "source": [
        "dir(str)"
      ],
      "id": "vW92SmIb4EkO",
      "execution_count": null,
      "outputs": []
    },
    {
      "cell_type": "markdown",
      "metadata": {
        "id": "18c00dc3"
      },
      "source": [
        "## Module: pyinputs"
      ],
      "id": "18c00dc3"
    },
    {
      "cell_type": "code",
      "metadata": {
        "id": "dfe1740b",
        "colab": {
          "base_uri": "https://localhost:8080/"
        },
        "outputId": "12b45724-c354-4226-acfc-c5289ff76448"
      },
      "source": [
        "pip install PyInputPlus"
      ],
      "id": "dfe1740b",
      "execution_count": null,
      "outputs": [
        {
          "output_type": "stream",
          "text": [
            "Requirement already satisfied: PyInputPlus in /usr/local/lib/python3.7/dist-packages (0.2.12)\n",
            "Requirement already satisfied: stdiomask>=0.0.3 in /usr/local/lib/python3.7/dist-packages (from PyInputPlus) (0.0.6)\n",
            "Requirement already satisfied: pysimplevalidate>=0.2.7 in /usr/local/lib/python3.7/dist-packages (from PyInputPlus) (0.2.12)\n"
          ],
          "name": "stdout"
        }
      ]
    },
    {
      "cell_type": "code",
      "metadata": {
        "colab": {
          "base_uri": "https://localhost:8080/"
        },
        "id": "QHrO19Bw-O2X",
        "outputId": "db4e5e98-0332-409a-e22b-6adf06ceb661"
      },
      "source": [
        "import pyinputplus as pyip\n",
        "age = pyip.inputNum(\"How old are you? \")\n",
        "print('You are ' + str(age))"
      ],
      "id": "QHrO19Bw-O2X",
      "execution_count": null,
      "outputs": [
        {
          "output_type": "stream",
          "text": [
            "How old are you? twenty one\n",
            "'twenty one' is not a number.\n",
            "How old are you? 21\n",
            "You are 21\n"
          ],
          "name": "stdout"
        }
      ]
    },
    {
      "cell_type": "code",
      "metadata": {
        "id": "96haBSUq-Rlw"
      },
      "source": [
        "dir(pyip)"
      ],
      "id": "96haBSUq-Rlw",
      "execution_count": null,
      "outputs": []
    },
    {
      "cell_type": "code",
      "metadata": {
        "colab": {
          "base_uri": "https://localhost:8080/"
        },
        "id": "LNu87E7L-rv5",
        "outputId": "727dc97e-4983-4694-e14b-0cafd8fb48e9"
      },
      "source": [
        "help(pyip.inputNum)"
      ],
      "id": "LNu87E7L-rv5",
      "execution_count": null,
      "outputs": [
        {
          "output_type": "stream",
          "text": [
            "Help on function inputNum in module pyinputplus:\n",
            "\n",
            "inputNum(prompt='', default=None, blank=False, timeout=None, limit=None, strip=None, allowRegexes=None, blockRegexes=None, applyFunc=None, postValidateApplyFunc=None, min=None, max=None, greaterThan=None, lessThan=None)\n",
            "    Prompts the user to enter a number, either an integer or a floating-point\n",
            "    value. Returns an int or float value (depending on if the user entered a\n",
            "    decimal in their input.)\n",
            "    \n",
            "    Run ``help(pyinputplus.parameters)`` for an explanation of the common parameters.\n",
            "    \n",
            "    * ``min`` (None, float): If not ``None``, the minimum accepted numeric value, including the minimum argument.\n",
            "    * ``max`` (None, float): If not ``None``, the maximum accepted numeric value, including the maximum argument.\n",
            "    * ``greaterThan`` (None, float): If not ``None``, the minimum accepted numeric value, not including the ``greaterThan`` argument.\n",
            "    * ``lessThan`` (None, float): If not ``None``, the maximum accepted numeric value, not including the ``lessThan`` argument.\n",
            "    \n",
            "    >>> import pyinputplus as pyip\n",
            "    >>> response = pyip.inputNum()\n",
            "    forty two\n",
            "    'forty two' is not a number.\n",
            "    42\n",
            "    >>> response\n",
            "    42\n",
            "    >>> response = pyip.inputNum()\n",
            "    9\n",
            "    >>> type(response)\n",
            "    <class 'int'>\n",
            "    >>> response = pyip.inputNum()\n",
            "    9.0\n",
            "    >>> type(response)\n",
            "    <class 'float'>\n",
            "    >>> response = pyip.inputNum(min=4)\n",
            "    3\n",
            "    Number must be at minimum 4.\n",
            "    4\n",
            "    >>> response\n",
            "    4\n",
            "    >>> response = pyip.inputNum(greaterThan=4)\n",
            "    4\n",
            "    Number must be greater than 4.\n",
            "    4.1\n",
            "    >>> response\n",
            "    4.1\n",
            "    >>> response = pyip.inputNum(limit=2)\n",
            "    dog\n",
            "    'dog' is not a number.\n",
            "    cat\n",
            "    'cat' is not a number.\n",
            "    Traceback (most recent call last):\n",
            "        ...\n",
            "    pyinputplus.RetryLimitException\n",
            "\n"
          ],
          "name": "stdout"
        }
      ]
    },
    {
      "cell_type": "code",
      "metadata": {
        "colab": {
          "base_uri": "https://localhost:8080/"
        },
        "id": "BvpM98scACKf",
        "outputId": "e2d9aa0b-d55a-429b-db0b-9dff7f13291f"
      },
      "source": [
        "# input two numbers\n",
        "number = 1\n",
        "another = 0\n",
        "\n",
        "\n",
        "# many lines of code here....\n",
        "try:\n",
        "   number/another\n",
        "   \n",
        "except ZeroDivisionError:\n",
        "  print(\"You shouldn't divide by zero\")"
      ],
      "id": "BvpM98scACKf",
      "execution_count": null,
      "outputs": [
        {
          "output_type": "stream",
          "text": [
            "You shouldn't divide by zero\n"
          ],
          "name": "stdout"
        }
      ]
    }
  ]
}