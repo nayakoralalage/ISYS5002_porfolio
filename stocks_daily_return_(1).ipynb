{
  "nbformat": 4,
  "nbformat_minor": 5,
  "metadata": {
    "kernelspec": {
      "display_name": "Python 3 (ipykernel)",
      "language": "python",
      "name": "python3"
    },
    "language_info": {
      "codemirror_mode": {
        "name": "ipython",
        "version": 3
      },
      "file_extension": ".py",
      "mimetype": "text/x-python",
      "name": "python",
      "nbconvert_exporter": "python",
      "pygments_lexer": "ipython3",
      "version": "3.9.6"
    },
    "colab": {
      "name": "stocks_daily_return (1).ipynb",
      "provenance": [],
      "collapsed_sections": [],
      "include_colab_link": true
    }
  },
  "cells": [
    {
      "cell_type": "markdown",
      "metadata": {
        "id": "view-in-github",
        "colab_type": "text"
      },
      "source": [
        "<a href=\"https://colab.research.google.com/github/nayakoralalage/ISYS5002_porfolio/blob/main/stocks_daily_return_(1).ipynb\" target=\"_parent\"><img src=\"https://colab.research.google.com/assets/colab-badge.svg\" alt=\"Open In Colab\"/></a>"
      ]
    },
    {
      "cell_type": "markdown",
      "metadata": {
        "id": "b5ae41e0"
      },
      "source": [
        "# Stock Data\n",
        "\n",
        "* Read CSV file\n",
        "* Use CSV module\n",
        "* Use Pandas\n",
        "  * CSV\n",
        "  * Excel"
      ],
      "id": "b5ae41e0"
    },
    {
      "cell_type": "code",
      "metadata": {
        "colab": {
          "base_uri": "https://localhost:8080/"
        },
        "id": "1e11a5be",
        "outputId": "a65f1e1d-fde4-4507-a420-6efbace1e316"
      },
      "source": [
        "  filename = '/content/GOOG.csv'\n",
        "\n",
        "  lines = []\n",
        "  with open(filename, 'r') as f:\n",
        "    for the_line in f:\n",
        "        lines.append(the_line)\n",
        "  print(lines[0])\n",
        "  print(lines[1])"
      ],
      "id": "1e11a5be",
      "execution_count": null,
      "outputs": [
        {
          "output_type": "stream",
          "text": [
            "Date,Open,High,Low,Close,Adj Close,Volume\n",
            "\n",
            "2004-08-19,49.813290,51.835709,47.800831,49.982655,49.982655,44871361\n",
            "\n"
          ],
          "name": "stdout"
        }
      ]
    },
    {
      "cell_type": "code",
      "metadata": {
        "colab": {
          "base_uri": "https://localhost:8080/"
        },
        "id": "EvfuR5YkYgrD",
        "outputId": "90e2c957-84a3-460c-8a02-5a5403558b24"
      },
      "source": [
        "    row = lines[1].split(',')\n",
        "    print(row)"
      ],
      "id": "EvfuR5YkYgrD",
      "execution_count": null,
      "outputs": [
        {
          "output_type": "stream",
          "text": [
            "['2004-08-19', '49.813290', '51.835709', '47.800831', '49.982655', '49.982655', '44871361\\n']\n"
          ],
          "name": "stdout"
        }
      ]
    },
    {
      "cell_type": "markdown",
      "metadata": {
        "id": "e63f358d"
      },
      "source": [
        "## Read CSV file"
      ],
      "id": "e63f358d"
    },
    {
      "cell_type": "code",
      "metadata": {
        "id": "p6q4X3WIXaKL"
      },
      "source": [
        "import csv"
      ],
      "id": "p6q4X3WIXaKL",
      "execution_count": null,
      "outputs": []
    },
    {
      "cell_type": "code",
      "metadata": {
        "colab": {
          "base_uri": "https://localhost:8080/"
        },
        "id": "425280cb",
        "outputId": "ba5fc7d1-c52e-4f11-fa2a-6c62a5c53e42"
      },
      "source": [
        "  file = open(filename, newline='')\n",
        "  reader = csv.reader(file)\n",
        "\n",
        "  header = next(reader) # read the column names \n",
        "\n",
        "  data = []\n",
        "  for row in reader:\n",
        "      # a row is [Date, Open, High, Low, Close, Adj Close, Volume]\n",
        "      date = row[0]\n",
        "      open_price = float(row[1])\n",
        "      high = float(row[2])\n",
        "      low = float(row[3])\n",
        "      # etc....\n",
        "      data.append([date, open_price, high, low])\n",
        "      \n",
        "  print(data[0])"
      ],
      "id": "425280cb",
      "execution_count": null,
      "outputs": [
        {
          "output_type": "stream",
          "text": [
            "['2004-08-19', 49.81329, 51.835709, 47.800831]\n"
          ],
          "name": "stdout"
        }
      ]
    },
    {
      "cell_type": "markdown",
      "metadata": {
        "id": "6d1de788"
      },
      "source": [
        "## Module: CSV"
      ],
      "id": "6d1de788"
    },
    {
      "cell_type": "code",
      "metadata": {
        "id": "17d5e7e0"
      },
      "source": [
        ""
      ],
      "id": "17d5e7e0",
      "execution_count": null,
      "outputs": []
    },
    {
      "cell_type": "markdown",
      "metadata": {
        "id": "1af66a5b"
      },
      "source": [
        "## Module: Pandas"
      ],
      "id": "1af66a5b"
    },
    {
      "cell_type": "code",
      "metadata": {
        "colab": {
          "base_uri": "https://localhost:8080/",
          "height": 204
        },
        "id": "494f6466",
        "outputId": "fb5bfd82-d62e-4a80-e55b-f9a941344fdc"
      },
      "source": [
        "import pandas as pd\n",
        "data = pd.read_csv(filename)\n",
        "data.head()"
      ],
      "id": "494f6466",
      "execution_count": null,
      "outputs": [
        {
          "output_type": "execute_result",
          "data": {
            "text/html": [
              "<div>\n",
              "<style scoped>\n",
              "    .dataframe tbody tr th:only-of-type {\n",
              "        vertical-align: middle;\n",
              "    }\n",
              "\n",
              "    .dataframe tbody tr th {\n",
              "        vertical-align: top;\n",
              "    }\n",
              "\n",
              "    .dataframe thead th {\n",
              "        text-align: right;\n",
              "    }\n",
              "</style>\n",
              "<table border=\"1\" class=\"dataframe\">\n",
              "  <thead>\n",
              "    <tr style=\"text-align: right;\">\n",
              "      <th></th>\n",
              "      <th>Date</th>\n",
              "      <th>Open</th>\n",
              "      <th>High</th>\n",
              "      <th>Low</th>\n",
              "      <th>Close</th>\n",
              "      <th>Adj Close</th>\n",
              "      <th>Volume</th>\n",
              "    </tr>\n",
              "  </thead>\n",
              "  <tbody>\n",
              "    <tr>\n",
              "      <th>0</th>\n",
              "      <td>2004-08-19</td>\n",
              "      <td>49.813290</td>\n",
              "      <td>51.835709</td>\n",
              "      <td>47.800831</td>\n",
              "      <td>49.982655</td>\n",
              "      <td>49.982655</td>\n",
              "      <td>44871361</td>\n",
              "    </tr>\n",
              "    <tr>\n",
              "      <th>1</th>\n",
              "      <td>2004-08-20</td>\n",
              "      <td>50.316402</td>\n",
              "      <td>54.336334</td>\n",
              "      <td>50.062355</td>\n",
              "      <td>53.952770</td>\n",
              "      <td>53.952770</td>\n",
              "      <td>22942874</td>\n",
              "    </tr>\n",
              "    <tr>\n",
              "      <th>2</th>\n",
              "      <td>2004-08-23</td>\n",
              "      <td>55.168217</td>\n",
              "      <td>56.528118</td>\n",
              "      <td>54.321388</td>\n",
              "      <td>54.495735</td>\n",
              "      <td>54.495735</td>\n",
              "      <td>18342897</td>\n",
              "    </tr>\n",
              "    <tr>\n",
              "      <th>3</th>\n",
              "      <td>2004-08-24</td>\n",
              "      <td>55.412300</td>\n",
              "      <td>55.591629</td>\n",
              "      <td>51.591621</td>\n",
              "      <td>52.239197</td>\n",
              "      <td>52.239197</td>\n",
              "      <td>15319808</td>\n",
              "    </tr>\n",
              "    <tr>\n",
              "      <th>4</th>\n",
              "      <td>2004-08-25</td>\n",
              "      <td>52.284027</td>\n",
              "      <td>53.798351</td>\n",
              "      <td>51.746044</td>\n",
              "      <td>52.802086</td>\n",
              "      <td>52.802086</td>\n",
              "      <td>9232276</td>\n",
              "    </tr>\n",
              "  </tbody>\n",
              "</table>\n",
              "</div>"
            ],
            "text/plain": [
              "         Date       Open       High        Low      Close  Adj Close    Volume\n",
              "0  2004-08-19  49.813290  51.835709  47.800831  49.982655  49.982655  44871361\n",
              "1  2004-08-20  50.316402  54.336334  50.062355  53.952770  53.952770  22942874\n",
              "2  2004-08-23  55.168217  56.528118  54.321388  54.495735  54.495735  18342897\n",
              "3  2004-08-24  55.412300  55.591629  51.591621  52.239197  52.239197  15319808\n",
              "4  2004-08-25  52.284027  53.798351  51.746044  52.802086  52.802086   9232276"
            ]
          },
          "metadata": {},
          "execution_count": 45
        }
      ]
    },
    {
      "cell_type": "code",
      "metadata": {
        "id": "v1B58xjrnCh7"
      },
      "source": [
        "import matplotlib.pyplot as plt"
      ],
      "id": "v1B58xjrnCh7",
      "execution_count": null,
      "outputs": []
    },
    {
      "cell_type": "code",
      "metadata": {
        "colab": {
          "base_uri": "https://localhost:8080/",
          "height": 296
        },
        "id": "7PiCT5G4n7Qr",
        "outputId": "3436105e-88b0-4773-9d50-31789bb375f3"
      },
      "source": [
        "data['Adj Close'].plot()\n",
        "plt.xlabel(\"Date\")\n",
        "plt.ylabel(\"Adjusted\")\n",
        "plt.xlabel(\"Google Price Data\")"
      ],
      "id": "7PiCT5G4n7Qr",
      "execution_count": null,
      "outputs": [
        {
          "output_type": "execute_result",
          "data": {
            "text/plain": [
              "Text(0.5, 0, 'Google Price Data')"
            ]
          },
          "metadata": {},
          "execution_count": 50
        },
        {
          "output_type": "display_data",
          "data": {
            "image/png": "[encoded data removed]",
            "text/plain": [
              "<Figure size 432x288 with 1 Axes>"
            ]
          },
          "metadata": {
            "needs_background": "light"
          }
        }
      ]
    }
  ]
}