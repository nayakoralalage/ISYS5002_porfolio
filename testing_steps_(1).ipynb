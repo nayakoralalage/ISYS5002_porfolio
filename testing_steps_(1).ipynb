{
  "nbformat": 4,
  "nbformat_minor": 0,
  "metadata": {
    "colab": {
      "name": "testing_steps (1).ipynb",
      "provenance": [],
      "collapsed_sections": [],
      "include_colab_link": true
    },
    "kernelspec": {
      "name": "python3",
      "display_name": "Python 3"
    },
    "language_info": {
      "name": "python"
    }
  },
  "cells": [
    {
      "cell_type": "markdown",
      "metadata": {
        "id": "view-in-github",
        "colab_type": "text"
      },
      "source": [
        "<a href=\"https://colab.research.google.com/github/nayakoralalage/ISYS5002_porfolio/blob/main/testing_steps_(1).ipynb\" target=\"_parent\"><img src=\"https://colab.research.google.com/assets/colab-badge.svg\" alt=\"Open In Colab\"/></a>"
      ]
    },
    {
      "cell_type": "markdown",
      "metadata": {
        "id": "-xcnFuWmxrX8"
      },
      "source": [
        "# Print Statement"
      ]
    },
    {
      "cell_type": "code",
      "metadata": {
        "id": "lIYo40-dCaXy"
      },
      "source": [
        "def my_func(x, y, z):\n",
        "    print(\"x =\", x)\n",
        "    return x * y + z"
      ],
      "execution_count": null,
      "outputs": []
    },
    {
      "cell_type": "code",
      "metadata": {
        "colab": {
          "base_uri": "https://localhost:8080/"
        },
        "id": "x6vlLiVdCunT",
        "outputId": "654c5e5c-1fbc-414d-8f0e-6bdda34e20aa"
      },
      "source": [
        "my_func(1,2,3)"
      ],
      "execution_count": null,
      "outputs": [
        {
          "output_type": "stream",
          "name": "stdout",
          "text": [
            "x = 1\n"
          ]
        },
        {
          "output_type": "execute_result",
          "data": {
            "text/plain": [
              "5"
            ]
          },
          "metadata": {},
          "execution_count": 16
        }
      ]
    },
    {
      "cell_type": "markdown",
      "metadata": {
        "id": "L-sAzPaICSwZ"
      },
      "source": [
        "# Assert Statement "
      ]
    },
    {
      "cell_type": "markdown",
      "metadata": {
        "id": "YFFTtskGCFNx"
      },
      "source": [
        ""
      ]
    },
    {
      "cell_type": "code",
      "metadata": {
        "id": "EmBvrh6q1Kd2"
      },
      "source": [
        "def my_func(x, y, z):\n",
        "    return x * y + z"
      ],
      "execution_count": null,
      "outputs": []
    },
    {
      "cell_type": "code",
      "metadata": {
        "id": "AiW10zSqxxr8"
      },
      "source": [
        "# test result\n",
        "result = my_func(1,1,3)\n",
        "\n",
        "# assert boolean expresion, message\n",
        "assert result == 4, 'should be 4' "
      ],
      "execution_count": null,
      "outputs": []
    },
    {
      "cell_type": "code",
      "metadata": {
        "id": "SJG1zS65EY90"
      },
      "source": [
        "assert my_func(1,1,3) == 4, 'should be 4'"
      ],
      "execution_count": null,
      "outputs": []
    },
    {
      "cell_type": "code",
      "metadata": {
        "id": "m5-IRoZjx1P4"
      },
      "source": [
        "# test function\n",
        "assert my_func(1,1,3) == 4, 'should be 4'"
      ],
      "execution_count": null,
      "outputs": []
    },
    {
      "cell_type": "code",
      "metadata": {
        "id": "Rs4kX-Z91jn3"
      },
      "source": [
        "# test something wrong\n",
        "assert my_func(0,0,0) == 1, 'should be 0'"
      ],
      "execution_count": null,
      "outputs": []
    },
    {
      "cell_type": "markdown",
      "metadata": {
        "id": "fSejL2YIx3BI"
      },
      "source": [
        "# Write functions\n",
        "\n",
        "Wrap the asert statement inside functions\n",
        "\n",
        "The write a function that call the test functions"
      ]
    },
    {
      "cell_type": "code",
      "metadata": {
        "id": "XJUEKmdBxqU1"
      },
      "source": [
        "  def test_my_func_three_numbers():\n",
        "    assert my_func(1,1,3) == 4, 'should be 4'\n",
        "    assert my_func(1,2,3) == 5, 'should be 5'\n",
        "\n",
        "  def test_my_func_string_number_string():\n",
        "    results = my_func('hello',3, 'world')\n",
        "    assert result == 'hello hello hello world', \"check my_func can handle strings!\"\n",
        "\n",
        "  def run_tests():\n",
        "    print(\"Runnung tests\")\n",
        "    test_my_func_three_numbers()\n",
        "    test_my_func_three_numbers()\n",
        "    print(\"All tests passed\")\n",
        "\n",
        "\n",
        "  run_tests()"
      ],
      "execution_count": null,
      "outputs": []
    },
    {
      "cell_type": "code",
      "metadata": {
        "colab": {
          "base_uri": "https://localhost:8080/",
          "height": 35
        },
        "id": "1tYriS6KIbo7",
        "outputId": "fbd47a29-9328-4991-83cf-85e5c945b295"
      },
      "source": [
        "my_func('hello ' ,3, 'world')"
      ],
      "execution_count": null,
      "outputs": [
        {
          "output_type": "execute_result",
          "data": {
            "application/vnd.google.colaboratory.intrinsic+json": {
              "type": "string"
            },
            "text/plain": [
              "'hello hello hello world'"
            ]
          },
          "metadata": {},
          "execution_count": 38
        }
      ]
    },
    {
      "cell_type": "markdown",
      "metadata": {
        "id": "651TMRAVx7Ze"
      },
      "source": [
        "## Doctest\n",
        "\n",
        "Best practice comments functions in a doc string.  We can include tests in these docstrings"
      ]
    },
    {
      "cell_type": "code",
      "metadata": {
        "id": "X7mBZEXdYxka"
      },
      "source": [
        "def my_func(x, y, z):\n",
        "    \"\"\"\n",
        "    this function will....\n",
        "    parameters:\n",
        "    x: this is to...\n",
        "    y: this is to...\n",
        "    >>> my_func(1,2,3)\n",
        "    5\n",
        "    >>> my_func('hello ', 3, 'world')\n",
        "    'hello hello hello world'\n",
        "    >>> my_func(1,1,1,)\n",
        "    1\n",
        "    \"\"\"\n",
        "    return x * y + z"
      ],
      "execution_count": null,
      "outputs": []
    },
    {
      "cell_type": "code",
      "metadata": {
        "colab": {
          "base_uri": "https://localhost:8080/"
        },
        "id": "K5KfTjTdK72c",
        "outputId": "25086988-d35f-4253-c548-f2030d8e2935"
      },
      "source": [
        "help(my_func)"
      ],
      "execution_count": null,
      "outputs": [
        {
          "output_type": "stream",
          "name": "stdout",
          "text": [
            "Help on function my_func in module __main__:\n",
            "\n",
            "my_func(x, y, z)\n",
            "    this function will....\n",
            "    parameters:\n",
            "    x: this is to...\n",
            "    y: this is to...\n",
            "    >>> my_func(1,2,3)\n",
            "    5\n",
            "    >>> my_func('hello ', 3, 'world')\n",
            "    'hello hello hello world'\n",
            "    >>> my_func(1,1,1,)\n",
            "    1\n",
            "\n"
          ]
        }
      ]
    },
    {
      "cell_type": "code",
      "metadata": {
        "id": "fzNLAyVByVaR",
        "colab": {
          "base_uri": "https://localhost:8080/"
        },
        "outputId": "1aa8e31d-1e55-4af7-aace-cfe6f231f7b4"
      },
      "source": [
        "import doctest\n",
        "doctest.testmod()"
      ],
      "execution_count": null,
      "outputs": [
        {
          "output_type": "stream",
          "name": "stdout",
          "text": [
            "**********************************************************************\n",
            "File \"__main__\", line 11, in __main__.my_func\n",
            "Failed example:\n",
            "    my_func(1,1,1,)\n",
            "Expected:\n",
            "    1\n",
            "Got:\n",
            "    2\n",
            "**********************************************************************\n",
            "1 items had failures:\n",
            "   1 of   3 in __main__.my_func\n",
            "***Test Failed*** 1 failures.\n"
          ]
        },
        {
          "output_type": "execute_result",
          "data": {
            "text/plain": [
              "TestResults(failed=1, attempted=3)"
            ]
          },
          "metadata": {},
          "execution_count": 48
        }
      ]
    },
    {
      "cell_type": "markdown",
      "metadata": {
        "id": "MBlQNvp9zpNu"
      },
      "source": [
        "# unittests\n",
        "\n",
        "Similar to writing own functions with assert statement, but provides summary output"
      ]
    },
    {
      "cell_type": "code",
      "metadata": {
        "id": "jZyaDcR2fSwG",
        "colab": {
          "base_uri": "https://localhost:8080/"
        },
        "outputId": "6058751d-cf95-4d73-e3ef-e8a1e10ba7e1"
      },
      "source": [
        "!pip install ipython_unittest\n",
        "%load_ext ipython_unittest"
      ],
      "execution_count": null,
      "outputs": [
        {
          "output_type": "stream",
          "name": "stdout",
          "text": [
            "Collecting ipython_unittest\n",
            "  Downloading ipython_unittest-0.3.1-py2.py3-none-any.whl (15 kB)\n",
            "Installing collected packages: ipython-unittest\n",
            "Successfully installed ipython-unittest-0.3.1\n"
          ]
        }
      ]
    },
    {
      "cell_type": "code",
      "metadata": {
        "id": "A6B6Rpb5eUjS",
        "colab": {
          "base_uri": "https://localhost:8080/",
          "height": 255
        },
        "outputId": "ccf5bcf5-e820-400d-92d6-98c91b76a36d"
      },
      "source": [
        "%%unittest_testcase\n",
        "def test_three_number(self):\n",
        "  result = my_func(1,2,3)\n",
        "  self.assertEqual(result, 4)"
      ],
      "execution_count": null,
      "outputs": [
        {
          "output_type": "display_data",
          "data": {
            "application/unittest.status+json": {
              "color": "yellow",
              "message": "",
              "previous": 0
            },
            "text/plain": [
              ""
            ]
          },
          "metadata": {}
        },
        {
          "output_type": "display_data",
          "data": {
            "application/unittest.status+json": {
              "color": "salmon",
              "message": "F\n======================================================================\nFAIL: test_three_number (__main__.JupyterTest)\n----------------------------------------------------------------------\nTraceback (most recent call last):\n  File \"Cell Tests\", line 3, in test_three_number\nAssertionError: 5 != 4\n\n----------------------------------------------------------------------\nRan 1 test in 0.000s\n\nFAILED (failures=1)\n",
              "previous": 0
            },
            "text/plain": [
              "Fail"
            ]
          },
          "metadata": {}
        },
        {
          "output_type": "stream",
          "name": "stdout",
          "text": [
            "F\n",
            "======================================================================\n",
            "FAIL: test_three_number (__main__.JupyterTest)\n",
            "----------------------------------------------------------------------\n",
            "Traceback (most recent call last):\n",
            "  File \"Cell Tests\", line 3, in test_three_number\n",
            "AssertionError: 5 != 4\n",
            "\n",
            "----------------------------------------------------------------------\n",
            "Ran 1 test in 0.000s\n",
            "\n",
            "FAILED (failures=1)\n"
          ]
        },
        {
          "output_type": "execute_result",
          "data": {
            "text/plain": [
              "<unittest.runner.TextTestResult run=1 errors=0 failures=1>"
            ]
          },
          "metadata": {},
          "execution_count": 51
        }
      ]
    }
  ]
}